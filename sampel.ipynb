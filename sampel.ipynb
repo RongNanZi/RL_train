{
 "cells": [
  {
   "cell_type": "code",
   "execution_count": 8,
   "metadata": {
    "collapsed": true
   },
   "outputs": [],
   "source": [
    "import numpy as np\n",
    "import gym\n",
    "import random"
   ]
  },
  {
   "cell_type": "code",
   "execution_count": 9,
   "metadata": {},
   "outputs": [],
   "source": [
    "env = gym.make(\"FrozenLake-v0\")"
   ]
  },
  {
   "cell_type": "code",
   "execution_count": 10,
   "metadata": {},
   "outputs": [
    {
     "name": "stdout",
     "output_type": "stream",
     "text": [
      "[[ 0.  0.  0.  0.]\n [ 0.  0.  0.  0.]\n [ 0.  0.  0.  0.]\n [ 0.  0.  0.  0.]\n [ 0.  0.  0.  0.]\n [ 0.  0.  0.  0.]\n [ 0.  0.  0.  0.]\n [ 0.  0.  0.  0.]\n [ 0.  0.  0.  0.]\n [ 0.  0.  0.  0.]\n [ 0.  0.  0.  0.]\n [ 0.  0.  0.  0.]\n [ 0.  0.  0.  0.]\n [ 0.  0.  0.  0.]\n [ 0.  0.  0.  0.]\n [ 0.  0.  0.  0.]]\n"
     ]
    }
   ],
   "source": [
    "action_size = env.action_space.n\n",
    "state_size = env.observation_space.n\n",
    "qtable = np.zeros((state_size, action_size))\n",
    "print(qtable)"
   ]
  },
  {
   "cell_type": "code",
   "execution_count": 11,
   "metadata": {},
   "outputs": [],
   "source": [
    "total_episodes = 10000        # Total episodes\n",
    "learning_rate = 0.8           # Learning rate\n",
    "max_steps = 99                # Max steps per episode\n",
    "gamma = 0.95                  # Discounting rate\n",
    "\n",
    "# Exploration parameters\n",
    "epsilon = 1.0                 # Exploration rate\n",
    "max_epsilon = 1.0             # Exploration probability at start\n",
    "min_epsilon = 0.01            # Minimum exploration probability \n",
    "decay_rate = 0.01             # Exponential decay rate for exploration prob"
   ]
  },
  {
   "cell_type": "code",
   "execution_count": 14,
   "metadata": {},
   "outputs": [
    {
     "name": "stdout",
     "output_type": "stream",
     "text": [
      "Score over time: 0.4785\n[[  7.65139750e-02   6.80828662e-02   7.21419974e-02   6.06334600e-02]\n [  1.45494265e-03   4.37425640e-03   4.41048951e-03   7.07303454e-02]\n [  4.26560838e-03   1.42218073e-03   3.67074149e-03   2.42577363e-02]\n [  3.12080302e-03   2.32644447e-03   9.04200927e-04   9.87867970e-03]\n [  1.11995322e-01   5.00080922e-02   1.70080539e-02   7.49233006e-02]\n [  0.00000000e+00   0.00000000e+00   0.00000000e+00   0.00000000e+00]\n [  1.59523451e-06   5.10845126e-03   1.33094563e-06   1.92947527e-09]\n [  0.00000000e+00   0.00000000e+00   0.00000000e+00   0.00000000e+00]\n [  3.61855515e-03   1.27979908e-02   1.33835348e-02   2.84061531e-01]\n [  9.19490557e-04   3.10316995e-01   1.29957483e-02   5.29576725e-04]\n [  7.65303400e-02   9.44341954e-02   1.53080994e-03   1.06974878e-01]\n [  0.00000000e+00   0.00000000e+00   0.00000000e+00   0.00000000e+00]\n [  0.00000000e+00   0.00000000e+00   0.00000000e+00   0.00000000e+00]\n [  3.07056677e-03   3.39047403e-01   4.59226506e-01   9.26843973e-02]\n [  3.99806804e-01   9.19976406e-01   9.08267621e-02   1.70733308e-01]\n [  0.00000000e+00   0.00000000e+00   0.00000000e+00   0.00000000e+00]]\n"
     ]
    }
   ],
   "source": [
    "# List of rewards\n",
    "rewards = []\n",
    "\n",
    "# 2 For life or until learning is stopped\n",
    "for episode in range(total_episodes):\n",
    "    # Reset the environment\n",
    "    state = env.reset()\n",
    "    step = 0\n",
    "    done = False\n",
    "    total_rewards = 0\n",
    "    \n",
    "    for step in range(max_steps):\n",
    "        # 3. Choose an action a in the current world state (s)\n",
    "        ## First we randomize a number\n",
    "        exp_exp_tradeoff = random.uniform(0, 1)\n",
    "        \n",
    "        ## If this number > greater than epsilon --> exploitation (taking the biggest Q value for this state)\n",
    "        if exp_exp_tradeoff > epsilon:\n",
    "            action = np.argmax(qtable[state,:])\n",
    "\n",
    "        # Else doing a random choice --> exploration\n",
    "        else:\n",
    "            action = env.action_space.sample()\n",
    "\n",
    "        # Take the action (a) and observe the outcome state(s') and reward (r)\n",
    "        new_state, reward, done, info = env.step(action)\n",
    "\n",
    "        # Update Q(s,a):= Q(s,a) + lr [R(s,a) + gamma * max Q(s',a') - Q(s,a)]\n",
    "        # qtable[new_state,:] : all the actions we can take from new state\n",
    "        qtable[state, action] = qtable[state, action] + learning_rate * (reward + gamma * np.max(qtable[new_state, :]) - qtable[state, action])\n",
    "        \n",
    "        total_rewards += reward\n",
    "        \n",
    "        # Our new state is state\n",
    "        state = new_state\n",
    "        \n",
    "        # If done (if we're dead) : finish episode\n",
    "        if done == True: \n",
    "            break\n",
    "        \n",
    "    # Reduce epsilon (because we need less and less exploration)\n",
    "    epsilon = min_epsilon + (max_epsilon - min_epsilon)*np.exp(-decay_rate*episode) \n",
    "    rewards.append(total_rewards)\n",
    "\n",
    "print (\"Score over time: \" +  str(sum(rewards)/total_episodes))\n",
    "print(qtable)"
   ]
  },
  {
   "cell_type": "code",
   "execution_count": 7,
   "metadata": {},
   "outputs": [
    {
     "name": "stdout",
     "output_type": "stream",
     "text": [
      "[[  7.64296089e-08   1.86442065e-09   2.75445438e-09   2.09476458e-09]\n [  7.33787254e-09   1.36082248e-09   2.61898249e-12   6.07403924e-09]\n [  7.78779685e-09   9.24628377e-09   3.70276878e-08   5.33741456e-10]\n [  2.40210564e-08   2.58850362e-10   1.00728921e-08   1.86988611e-08]\n [  1.00520345e-07   1.82597003e-08   2.18634606e-06   6.94574124e-08]\n [  0.00000000e+00   0.00000000e+00   0.00000000e+00   0.00000000e+00]\n [  2.66356329e-04   9.11802347e-08   1.36731025e-09   7.68150431e-08]\n [  0.00000000e+00   0.00000000e+00   0.00000000e+00   0.00000000e+00]\n [  2.01825294e-06   2.86757758e-07   2.50617302e-05   5.19597897e-06]\n [  2.87039558e-06   5.77206393e-05   3.10292863e-04   4.16431220e-06]\n [  6.87184825e-04   2.09480809e-05   2.63204759e-03   8.45501982e-05]\n [  0.00000000e+00   0.00000000e+00   0.00000000e+00   0.00000000e+00]\n [  0.00000000e+00   0.00000000e+00   0.00000000e+00   0.00000000e+00]\n [  9.72835910e-05   5.62637275e-03   6.43353573e-02   2.67769853e-03]\n [  6.03345816e-03   1.31971381e-02   8.01959809e-01   3.25389075e-02]\n [  0.00000000e+00   0.00000000e+00   0.00000000e+00   0.00000000e+00]]\n"
     ]
    }
   ],
   "source": [
    ""
   ]
  },
  {
   "cell_type": "code",
   "execution_count": null,
   "metadata": {},
   "outputs": [],
   "source": []
  }
 ],
 "metadata": {
  "kernelspec": {
   "display_name": "Python 2",
   "language": "python",
   "name": "python2"
  },
  "language_info": {
   "codemirror_mode": {
    "name": "ipython",
    "version": 2
   },
   "file_extension": ".py",
   "mimetype": "text/x-python",
   "name": "python",
   "nbconvert_exporter": "python",
   "pygments_lexer": "ipython2",
   "version": "2.7.6"
  }
 },
 "nbformat": 4,
 "nbformat_minor": 0
}
